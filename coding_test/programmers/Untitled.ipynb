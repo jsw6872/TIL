{
 "cells": [
  {
   "cell_type": "code",
   "execution_count": 7,
   "id": "806cf1e0",
   "metadata": {},
   "outputs": [
    {
     "name": "stdout",
     "output_type": "stream",
     "text": [
      "1\n",
      "2\n"
     ]
    }
   ],
   "source": [
    "a = [1, 2]\n",
    "b = [1, 2, 3]\n",
    "for i in b:\n",
    "    print(b.pop(0))"
   ]
  },
  {
   "cell_type": "code",
   "execution_count": 12,
   "id": "4bedba69",
   "metadata": {},
   "outputs": [],
   "source": [
    "def solution(participant, completion):\n",
    "    new_list = participant\n",
    "\n",
    "    for a in new_list:\n",
    "        if a in completion:\n",
    "            participant.pop(participant.index(a))\n",
    "            print(participant)\n",
    "            completion.pop(completion.index(a))\n",
    "    return participant[-1]"
   ]
  },
  {
   "cell_type": "code",
   "execution_count": 13,
   "id": "7effd1d7",
   "metadata": {},
   "outputs": [
    {
     "name": "stdout",
     "output_type": "stream",
     "text": [
      "['leo', 'eden']\n"
     ]
    },
    {
     "data": {
      "text/plain": [
       "'eden'"
      ]
     },
     "execution_count": 13,
     "metadata": {},
     "output_type": "execute_result"
    }
   ],
   "source": []
  }
 ],
 "metadata": {
  "kernelspec": {
   "display_name": "Python 3 (ipykernel)",
   "language": "python",
   "name": "python3"
  },
  "language_info": {
   "codemirror_mode": {
    "name": "ipython",
    "version": 3
   },
   "file_extension": ".py",
   "mimetype": "text/x-python",
   "name": "python",
   "nbconvert_exporter": "python",
   "pygments_lexer": "ipython3",
   "version": "3.8.12"
  }
 },
 "nbformat": 4,
 "nbformat_minor": 5
}
