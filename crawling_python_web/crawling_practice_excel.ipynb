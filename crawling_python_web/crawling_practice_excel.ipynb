{
 "cells": [
  {
   "cell_type": "markdown",
   "id": "bdfc5daf",
   "metadata": {},
   "source": [
    "# 크롤링 해서 엑셀 파일로 저장"
   ]
  },
  {
   "cell_type": "markdown",
   "id": "4e123ff9",
   "metadata": {},
   "source": [
    "## openpyxl 이용"
   ]
  },
  {
   "cell_type": "code",
   "execution_count": 2,
   "id": "56f96257",
   "metadata": {},
   "outputs": [],
   "source": [
    "import openpyxl"
   ]
  },
  {
   "cell_type": "markdown",
   "id": "5ae18f07",
   "metadata": {},
   "source": [
    "### 엑셀 객체 생성 & 시트 선택 & 이름 변경"
   ]
  },
  {
   "cell_type": "code",
   "execution_count": 3,
   "id": "c7aa0e75",
   "metadata": {},
   "outputs": [],
   "source": [
    "excel_file = openpyxl.Workbook() # 엑셀 파일 생성 후 객체에 저장"
   ]
  },
  {
   "cell_type": "code",
   "execution_count": 4,
   "id": "257eab23",
   "metadata": {},
   "outputs": [],
   "source": [
    "activate_sheet = excel_file.active # 만들어진 엑셀 객체에 활성화된 시트 선택"
   ]
  },
  {
   "cell_type": "code",
   "execution_count": 5,
   "id": "340ed12b",
   "metadata": {},
   "outputs": [],
   "source": [
    "activate_sheet.titel = 'practice' # 활성화된 시트 이름 practice로 변경"
   ]
  },
  {
   "cell_type": "markdown",
   "id": "81d5e847",
   "metadata": {},
   "source": [
    "### append를 통한 값 삽입"
   ]
  },
  {
   "cell_type": "code",
   "execution_count": 7,
   "id": "84b21714",
   "metadata": {},
   "outputs": [],
   "source": [
    "# 한 번 append가 실행될 때마다 각 행에 column 순으로 리스트 값들이 삽입\n",
    "activate_sheet.append(['data1', 'data2', 'data3'])"
   ]
  },
  {
   "cell_type": "markdown",
   "id": "9a1afd28",
   "metadata": {},
   "source": [
    "### 엑셀 파일 저장"
   ]
  },
  {
   "cell_type": "code",
   "execution_count": 8,
   "id": "29ed8793",
   "metadata": {},
   "outputs": [],
   "source": [
    "excel_file.save('practice.xlsx') # 해당 이름으로 엑셀파일 저장"
   ]
  },
  {
   "cell_type": "markdown",
   "id": "1328cc92",
   "metadata": {},
   "source": [
    "### 엑셀 파일 닫기"
   ]
  },
  {
   "cell_type": "code",
   "execution_count": 9,
   "id": "93fb29d2",
   "metadata": {},
   "outputs": [],
   "source": [
    "excel_file.close()"
   ]
  },
  {
   "cell_type": "markdown",
   "id": "9145a034",
   "metadata": {},
   "source": [
    "---"
   ]
  },
  {
   "cell_type": "markdown",
   "id": "17e213b3",
   "metadata": {},
   "source": [
    "## 함수를 통해 엑셀 파일 생성"
   ]
  },
  {
   "cell_type": "code",
   "execution_count": 10,
   "id": "e3f51a2c",
   "metadata": {},
   "outputs": [],
   "source": [
    "def create_excel(filename, sheetname, listdata : list):\n",
    "    excel_file = openpyxl.Workbook()\n",
    "    excel_sheet = excel_file.active\n",
    "    # 엑셀의 A열의 넓이를 100으로 지정\n",
    "    excel_sheet.column_dimensions['A'].width = 100\n",
    "    # 받는 sheetname 인자가 빈칸이 아니면 활성화된 시트를 sheetname으로 변경\n",
    "    if sheetname != '':\n",
    "        excel_sheet.title = sheetname\n",
    "    \n",
    "    for item in listdata:\n",
    "        excel_sheet.append(item)\n",
    "    excel_file.save(filename)\n",
    "    excel_file.close()"
   ]
  },
  {
   "cell_type": "code",
   "execution_count": 12,
   "id": "7db0adb1",
   "metadata": {},
   "outputs": [],
   "source": [
    "# 크롤링 코드를 통해 상품이름과 날짜를 담고 있는 2차원 리스트 생성\n",
    "import requests\n",
    "from bs4 import BeautifulSoup\n",
    "product_lists = list()\n",
    "\n",
    "for page_num in range(10):\n",
    "    if page_num == 0:\n",
    "        res = requests.get('https://davelee-fun.github.io/')\n",
    "    else:\n",
    "        res = requests.get('https://davelee-fun.github.io/page' + str(page_num + 1))\n",
    "    soup = BeautifulSoup(res.content, 'html.parser')\n",
    "\n",
    "    data = soup.select('div.card')\n",
    "    for item in data:\n",
    "        product_name = item.select_one('div.card-body h4.card-text')\n",
    "        product_date = item.select_one('div.wrapfooter span.post-date')\n",
    "        product_info = [product_name.get_text().strip(), product_date.get_text()]\n",
    "        product_lists.append(product_info)"
   ]
  },
  {
   "cell_type": "code",
   "execution_count": 13,
   "id": "4436f316",
   "metadata": {},
   "outputs": [],
   "source": [
    "# 2차원 리스트에서 하나씩 접근해 하나의 행 생성\n",
    "create_excel('practice_product_info.xlsx', '상품정보', product_lists)"
   ]
  },
  {
   "cell_type": "markdown",
   "id": "ae9e3421",
   "metadata": {},
   "source": [
    "## 엑셀파일 값 읽어오기"
   ]
  },
  {
   "cell_type": "markdown",
   "id": "cb1a5a00",
   "metadata": {},
   "source": [
    "### 1. pandas 이용"
   ]
  },
  {
   "cell_type": "code",
   "execution_count": 17,
   "id": "332afce4",
   "metadata": {
    "scrolled": false
   },
   "outputs": [
    {
     "data": {
      "text/html": [
       "<div>\n",
       "<style scoped>\n",
       "    .dataframe tbody tr th:only-of-type {\n",
       "        vertical-align: middle;\n",
       "    }\n",
       "\n",
       "    .dataframe tbody tr th {\n",
       "        vertical-align: top;\n",
       "    }\n",
       "\n",
       "    .dataframe thead th {\n",
       "        text-align: right;\n",
       "    }\n",
       "</style>\n",
       "<table border=\"1\" class=\"dataframe\">\n",
       "  <thead>\n",
       "    <tr style=\"text-align: right;\">\n",
       "      <th></th>\n",
       "      <th>상품명: 보몽드 순면스퀘어 솔리드 누빔매트커버, 다크블루</th>\n",
       "      <th>05 Jun 2020</th>\n",
       "    </tr>\n",
       "  </thead>\n",
       "  <tbody>\n",
       "    <tr>\n",
       "      <th>0</th>\n",
       "      <td>상품명: 슈에뜨룸 선인장 리플 침구 세트, 베이지</td>\n",
       "      <td>05 Jun 2020</td>\n",
       "    </tr>\n",
       "    <tr>\n",
       "      <th>1</th>\n",
       "      <td>상품명: 선우랜드 레인보우 2단 문걸이용 옷걸이 _중형, 화이트, 상세페이지참조</td>\n",
       "      <td>05 Jun 2020</td>\n",
       "    </tr>\n",
       "    <tr>\n",
       "      <th>2</th>\n",
       "      <td>상품명: 보드래 헬로우 누빔 매트리스커버, 핑크</td>\n",
       "      <td>05 Jun 2020</td>\n",
       "    </tr>\n",
       "    <tr>\n",
       "      <th>3</th>\n",
       "      <td>상품명: 보드래 퍼펙트 누빔 매트리스커버, 차콜</td>\n",
       "      <td>05 Jun 2020</td>\n",
       "    </tr>\n",
       "    <tr>\n",
       "      <th>4</th>\n",
       "      <td>상품명: 피아블 클래식 방수 매트리스커버, 화이트</td>\n",
       "      <td>05 Jun 2020</td>\n",
       "    </tr>\n",
       "    <tr>\n",
       "      <th>...</th>\n",
       "      <td>...</td>\n",
       "      <td>...</td>\n",
       "    </tr>\n",
       "    <tr>\n",
       "      <th>88</th>\n",
       "      <td>상품명: 보몽드 순면스퀘어 솔리드 누빔매트커버, 아이보리</td>\n",
       "      <td>05 Jun 2020</td>\n",
       "    </tr>\n",
       "    <tr>\n",
       "      <th>89</th>\n",
       "      <td>상품명: 더자리 에코항균 마이크로 매트리스커버, 밀키핑크</td>\n",
       "      <td>05 Jun 2020</td>\n",
       "    </tr>\n",
       "    <tr>\n",
       "      <th>90</th>\n",
       "      <td>상품명: 타카타카 프리미엄 나노 화이바 누빔 매트리스 커버, 미스밍고</td>\n",
       "      <td>05 Jun 2020</td>\n",
       "    </tr>\n",
       "    <tr>\n",
       "      <th>91</th>\n",
       "      <td>상품명: 네이쳐리빙 피아블 클래식 방수 매트리스커버, 그레이</td>\n",
       "      <td>05 Jun 2020</td>\n",
       "    </tr>\n",
       "    <tr>\n",
       "      <th>92</th>\n",
       "      <td>상품명: 프로텍트어베드 베이직 매트리스 방수커버, 그레이</td>\n",
       "      <td>05 Jun 2020</td>\n",
       "    </tr>\n",
       "  </tbody>\n",
       "</table>\n",
       "<p>93 rows × 2 columns</p>\n",
       "</div>"
      ],
      "text/plain": [
       "                 상품명: 보몽드 순면스퀘어 솔리드 누빔매트커버, 다크블루  05 Jun 2020\n",
       "0                    상품명: 슈에뜨룸 선인장 리플 침구 세트, 베이지  05 Jun 2020\n",
       "1   상품명: 선우랜드 레인보우 2단 문걸이용 옷걸이 _중형, 화이트, 상세페이지참조  05 Jun 2020\n",
       "2                     상품명: 보드래 헬로우 누빔 매트리스커버, 핑크  05 Jun 2020\n",
       "3                     상품명: 보드래 퍼펙트 누빔 매트리스커버, 차콜  05 Jun 2020\n",
       "4                    상품명: 피아블 클래식 방수 매트리스커버, 화이트  05 Jun 2020\n",
       "..                                           ...          ...\n",
       "88               상품명: 보몽드 순면스퀘어 솔리드 누빔매트커버, 아이보리  05 Jun 2020\n",
       "89               상품명: 더자리 에코항균 마이크로 매트리스커버, 밀키핑크  05 Jun 2020\n",
       "90        상품명: 타카타카 프리미엄 나노 화이바 누빔 매트리스 커버, 미스밍고  05 Jun 2020\n",
       "91             상품명: 네이쳐리빙 피아블 클래식 방수 매트리스커버, 그레이  05 Jun 2020\n",
       "92               상품명: 프로텍트어베드 베이직 매트리스 방수커버, 그레이  05 Jun 2020\n",
       "\n",
       "[93 rows x 2 columns]"
      ]
     },
     "execution_count": 17,
     "metadata": {},
     "output_type": "execute_result"
    }
   ],
   "source": [
    "import pandas as pd\n",
    "load_excel = pd.read_excel('practice_product_info.xlsx')\n",
    "load_excel"
   ]
  },
  {
   "cell_type": "markdown",
   "id": "7ed8a164",
   "metadata": {},
   "source": [
    "### 2. openpyxl.load_workbook() 이용"
   ]
  },
  {
   "cell_type": "code",
   "execution_count": 18,
   "id": "58f16bb1",
   "metadata": {},
   "outputs": [],
   "source": [
    "# 엑셀 파일 불러와 객채로 저장\n",
    "load_excel_openpyxl = openpyxl.load_workbook('practice_product_info.xlsx')\n"
   ]
  },
  {
   "cell_type": "code",
   "execution_count": 19,
   "id": "9c57dd0c",
   "metadata": {},
   "outputs": [
    {
     "data": {
      "text/plain": [
       "['상품정보']"
      ]
     },
     "execution_count": 19,
     "metadata": {},
     "output_type": "execute_result"
    }
   ],
   "source": [
    "# 해당 파일의 시트이름 리스트로 보여줌\n",
    "load_excel_openpyxl.sheetnames"
   ]
  },
  {
   "cell_type": "code",
   "execution_count": 22,
   "id": "a097fb25",
   "metadata": {},
   "outputs": [],
   "source": [
    "# 해당 시트 선택해서 객체에 저장\n",
    "excel_sheet_name = load_excel_openpyxl['상품정보']"
   ]
  },
  {
   "cell_type": "code",
   "execution_count": 24,
   "id": "e83e6bb0",
   "metadata": {},
   "outputs": [
    {
     "name": "stdout",
     "output_type": "stream",
     "text": [
      "상품명: 보몽드 순면스퀘어 솔리드 누빔매트커버, 다크블루 05 Jun 2020\n",
      "상품명: 슈에뜨룸 선인장 리플 침구 세트, 베이지 05 Jun 2020\n",
      "상품명: 선우랜드 레인보우 2단 문걸이용 옷걸이 _중형, 화이트, 상세페이지참조 05 Jun 2020\n",
      "상품명: 보드래 헬로우 누빔 매트리스커버, 핑크 05 Jun 2020\n",
      "상품명: 보드래 퍼펙트 누빔 매트리스커버, 차콜 05 Jun 2020\n",
      "상품명: 피아블 클래식 방수 매트리스커버, 화이트 05 Jun 2020\n",
      "상품명: 더자리 에코항균 마이크로 매트리스커버, 밀키차콜그레이 05 Jun 2020\n",
      "상품명: 더자리 프레쉬 퓨어 매트리스 커버, 퓨어 차콜그레이 05 Jun 2020\n",
      "상품명: 몽쉐어 알러스킨 항균 매트리스 커버, 카키그레이 05 Jun 2020\n",
      "상품명: 쿠팡 브랜드 - 코멧 홈 40수 트윌 순면 100% 홑겹 매트리스커버, 그레이 05 Jun 2020\n",
      "상품명: 패브릭아트 항균 마이크로 원단 매트리스 커버, 아이보리 05 Jun 2020\n",
      "상품명: 바숨 순면 누빔 침대 매트리스커버, 차콜 05 Jun 2020\n",
      "상품명: WEMAX 다용도 문옷걸이, 화이트, 1개 05 Jun 2020\n",
      "상품명: 타카타카 프리미엄 나노 화이바 누빔 매트리스 커버, 젠틀핑핑 05 Jun 2020\n",
      "상품명: 보몽드 순면스퀘어 누빔매트커버, 다크그레이 05 Jun 2020\n",
      "상품명: 보드래 국내산 순면 60수 누빔 매트리스커버, 그레이 05 Jun 2020\n",
      "상품명: 보드래 퍼펙트 누빔 매트리스커버, 베이지핑크 05 Jun 2020\n",
      "상품명: 쿠팡 브랜드 - 코멧 홈 40수 순면 누빔 매트리스커버, 챠콜 05 Jun 2020\n",
      "상품명: 바숨 순면 누빔 침대 매트리스커버, 화이트 05 Jun 2020\n",
      "상품명: 프랑떼 항균 방수 매트리스커버, 화이트 05 Jun 2020\n",
      "상품명: 보몽드 순면스퀘어 솔리드 누빔매트커버, 다크블루 05 Jun 2020\n",
      "상품명: 네이쳐리빙 피아블 클래식 방수 매트리스커버, 그레이 05 Jun 2020\n",
      "상품명: 쿠팡 브랜드 - 코멧 홈 순면 매트리스커버, 베이지 05 Jun 2020\n",
      "상품명: 타카타카 프리미엄 나노 화이바 누빔 매트리스 커버, 프렌치불독 05 Jun 2020\n",
      "상품명: 더자리 에코항균 마이크로 매트리스커버, 밀키그레이 05 Jun 2020\n",
      "상품명: 보몽드 순면스퀘어 누빔매트커버, 화이트 05 Jun 2020\n",
      "상품명: 피아블 클래식 방수 매트리스커버, 화이트 05 Jun 2020\n",
      "상품명: 쿠팡 브랜드 - 코멧 홈 순면 매트리스커버, 차콜그레이 05 Jun 2020\n",
      "상품명: 쉬즈홈 모던그리드 순면 여름이불 베개커버 패드세트, 핑크 05 Jun 2020\n",
      "상품명: 스코홈 빅리플 여름 차렵이불패드 3종 세트, 마린그레이 05 Jun 2020\n",
      "상품명: 아망떼 시어서커 리플 홑이불 패드세트, 웨이크 05 Jun 2020\n",
      "상품명: 마이센스 무더운 여름엔 시어서커 여름이불 패드 베개 이불세트 30종, 시어서커_파스텔그레이 05 Jun 2020\n",
      "상품명: 믹스앤매치 로라 프릴 시어서커 침구세트, 그레이 05 Jun 2020\n",
      "상품명: 에피소드1 샤베트 프릴 시어서커 여름이불패드세트, 그레이 05 Jun 2020\n",
      "상품명: 슈에뜨룸 선인장 리플 침구 세트, 베이지 05 Jun 2020\n",
      "상품명: 아망떼 시어서커 리플 홑이불 패드세트, 허브티 05 Jun 2020\n",
      "상품명: 지베딩 아이스베어 시어서커 여름침구 풀세트, 민트그레이 05 Jun 2020\n",
      "상품명: 쁘리엘르 테스 시어서커 여름이불 패드세트, 그레이 05 Jun 2020\n",
      "상품명: 쉬즈홈 시어서커 홑이불 + 토퍼 + 베개커버 세트, 나나 옐로우 05 Jun 2020\n",
      "상품명: 아망떼 시어서커 리플 퀼팅 이불패드세트, 리엔나 05 Jun 2020\n",
      "상품명: 바자르 트로피컬 인견 여름 이불세트 인견이불 + 베개커버 2p + 인견패드, 그린 05 Jun 2020\n",
      "상품명: 바자르 라이닝 혼방 인견 여름 이불베개세트 + 패드 Q, 쿨 네이비 05 Jun 2020\n",
      "상품명: 슈에뜨룸 비숑 피치스킨 침구세트, 그레이 05 Jun 2020\n",
      "상품명: 스코홈 시어서커 여름 이불 패드 3종 세트, 차콜 05 Jun 2020\n",
      "상품명: 스코홈 어번시리즈 순면 차렵이불 누빔 매트커버세트 S 차콜 05 Jun 2020\n",
      "상품명: 쉬즈홈 루즈 시어서커 차렵이불 패드세트, 그레이 05 Jun 2020\n",
      "상품명: 예가로드 메리엘 시어서커 누비이불 패드세트, 블루 05 Jun 2020\n",
      "상품명: 에피소드1 샤베트 프릴 시어서커 여름이불패드세트, 화이트 05 Jun 2020\n",
      "상품명: 쉬즈홈 플루 시어서커 차렵이불 패드세트, 그린 05 Jun 2020\n",
      "상품명: 메종 레이스 차렵 이불 세트, 블루 05 Jun 2020\n",
      "상품명: 믹스앤매치 로라 프릴 시어서커 침구세트, 그린 05 Jun 2020\n",
      "상품명: 슈에뜨룸 발그레 피치 리플 침구 세트, 혼합 색상 05 Jun 2020\n",
      "상품명: 보몽드 메종 레이스 차렵이불 3종 세트, 민트 05 Jun 2020\n",
      "상품명: 슈에뜨룸 체크 피치스킨 침구세트, 모카 05 Jun 2020\n",
      "상품명: 메리엘 시어서커 에어리플 이불세트, 그레이 05 Jun 2020\n",
      "상품명: 슈에뜨룸 빠삐용 시어서커 침구세트, 네이비 05 Jun 2020\n",
      "상품명: 믹스앤매치 에이프릴 리플 누비이불 패드세트, 화이트 05 Jun 2020\n",
      "상품명: 쉬즈홈 시어서커 홑이불 토퍼세트, 루즈 그레이 05 Jun 2020\n",
      "상품명: 이코디 5단 엔틱 도어 행거, 브라운, 1개 05 Jun 2020\n",
      "상품명: 선우랜드 우드볼 도어훅 4구, 실버, 1개 05 Jun 2020\n",
      "상품명: 리은상점 다용도 도어훅 문걸이 행거 모자걸이 머플러 목도리 걸이, 화이트, 5개 05 Jun 2020\n",
      "상품명: 퍼니스코 다용도걸이 모자걸이 가방걸이 도어훅 도어행거 문걸이, 엔틱브라운, 1세트 05 Jun 2020\n",
      "상품명: 스텐 도어후크 옷걸이/도어훅 문옷걸이 행거 바지걸이, 혼합 색상, 1개 05 Jun 2020\n",
      "상품명: 디비플러스 키펙스 컬러 폭조절 오버 도어훅, 블랙, 1개 05 Jun 2020\n",
      "상품명: 리빙스토리 1+1 문에 거는 문 옷걸이 음자리 도어후크 방문 행거, 음자리도어후크-로즈골드, 2개 05 Jun 2020\n",
      "상품명: 나이스후크 도어행거 2개 세트 (문행거), 블랙+화이트 05 Jun 2020\n",
      "상품명: 리빙파이 도어훅 옷걸이 행거 7구, 블랙, 1개 05 Jun 2020\n",
      "상품명: 선우랜드 우드볼 도어훅 10구, 실버, 1개 05 Jun 2020\n",
      "상품명: 웰렉스 도어행거 MH1060 신형 본사직발송 미니건조대 도어옷걸이 도어훅, 고동색, 1개 05 Jun 2020\n",
      "상품명: 엔비 엔틱 7구 도어훅 옷걸이, 도어훅 1+1, 1+1 05 Jun 2020\n",
      "상품명: 코시나 무타공 문걸이 후크선반 1단, 화이트, 1개 05 Jun 2020\n",
      "상품명: 코시나 무타공 올스텐 문걸이행거, 혼합 색상, 1개 05 Jun 2020\n",
      "상품명: [아트박스 POOM/이케아] ENUDDEN 도어 행거, 본품, 수량 05 Jun 2020\n",
      "상품명: 비스비바 우드 폴 다용도걸이 3구, 혼합 색상, 1개 05 Jun 2020\n",
      "상품명: 숲속애 웨이브 도어후크 5구, 블랙, 1개 05 Jun 2020\n",
      "상품명: 펀타스틱 다용도 문틀걸이, 화이트, 1개 05 Jun 2020\n",
      "상품명: 선우랜드 우드볼 도어훅 4구, 화이트, 1개 05 Jun 2020\n",
      "상품명: 네이쳐리빙 어반모카 와이어 도어훅 옷걸이 6구, 단일 색상, 1개 05 Jun 2020\n",
      "상품명: 까사마루 블랑 접이식 문걸이 건조대, 1개 05 Jun 2020\n",
      "상품명: 선우랜드 우드볼 도어훅 6구, 실버, 1개 05 Jun 2020\n",
      "상품명: 이케아 ENUDDEN 문걸이 행거 402.516.66, 화이트, 1개 05 Jun 2020\n",
      "상품명: 선우랜드 우드볼 도어훅 10구, 화이트, 1개 05 Jun 2020\n",
      "상품명: 코멧 홈 우드볼 도어행거, 6구, 혼합색상 05 Jun 2020\n",
      "상품명: 선우랜드 레인보우 2단 문걸이용 옷걸이 _중형, 화이트, 상세페이지참조 05 Jun 2020\n",
      "상품명: 코시나 무타공 문걸이 후크선반 2단, 화이트, 1개 05 Jun 2020\n",
      "상품명: 스파이더락 도어후크 8구, 화이트, 1개 05 Jun 2020\n",
      "상품명: 선우랜드 우드볼 도어훅 6구, 화이트, 1개 05 Jun 2020\n",
      "상품명: 코멧 홈 우드볼 도어행거, 10구, 혼합색상 05 Jun 2020\n",
      "상품명: 보드래 헬로우 누빔 매트리스커버, 핑크 05 Jun 2020\n",
      "상품명: 보몽드 순면스퀘어 솔리드 누빔매트커버, 아이보리 05 Jun 2020\n",
      "상품명: 더자리 에코항균 마이크로 매트리스커버, 밀키핑크 05 Jun 2020\n",
      "상품명: 타카타카 프리미엄 나노 화이바 누빔 매트리스 커버, 미스밍고 05 Jun 2020\n",
      "상품명: 네이쳐리빙 피아블 클래식 방수 매트리스커버, 그레이 05 Jun 2020\n",
      "상품명: 프로텍트어베드 베이직 매트리스 방수커버, 그레이 05 Jun 2020\n"
     ]
    }
   ],
   "source": [
    "# 데이터 불러오기\n",
    "for item in excel_sheet_name.rows: #시트에서 각 행씩 뽑아온다\n",
    "    print(item[0].value, item[1].value) #각 행의 1,2번째 col의 value값 뽑아옴"
   ]
  },
  {
   "cell_type": "code",
   "execution_count": 25,
   "id": "4c7b3c25",
   "metadata": {},
   "outputs": [],
   "source": [
    "# 불러온 파일 닫기\n",
    "load_excel_openpyxl.close()"
   ]
  }
 ],
 "metadata": {
  "kernelspec": {
   "display_name": "Python 3 (ipykernel)",
   "language": "python",
   "name": "python3"
  },
  "language_info": {
   "codemirror_mode": {
    "name": "ipython",
    "version": 3
   },
   "file_extension": ".py",
   "mimetype": "text/x-python",
   "name": "python",
   "nbconvert_exporter": "python",
   "pygments_lexer": "ipython3",
   "version": "3.8.12"
  }
 },
 "nbformat": 4,
 "nbformat_minor": 5
}
